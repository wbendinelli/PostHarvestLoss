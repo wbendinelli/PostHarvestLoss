{
 "cells": [
  {
   "cell_type": "code",
   "execution_count": 0,
   "metadata": {
    "application/vnd.databricks.v1+cell": {
     "cellMetadata": {
      "byteLimit": 2048000,
      "rowLimit": 10000
     },
     "inputWidgets": {},
     "nuid": "fe034e85-d3a6-487f-9584-45ad342155a8",
     "showTitle": false,
     "tableResultSettingsMap": {},
     "title": ""
    }
   },
   "outputs": [],
   "source": [
    "from pyspark.sql.functions import col, sum as spark_sum\n",
    "\n",
    "# Load data from fao_fbs_pivoted_country table\n",
    "fao_fbs_pivoted_country = spark.sql(\"\"\"\n",
    "    SELECT \n",
    "        area_code,\n",
    "        area,\n",
    "        item_code,\n",
    "        item,\n",
    "        year_code,\n",
    "        year,\n",
    "        production,\n",
    "        import_quantity,\n",
    "        export_quantity,\n",
    "        losses,\n",
    "        food,\n",
    "        feed,\n",
    "        seed,\n",
    "        stock_variation\n",
    "    FROM workspace.postharvestloss.fao_fbs_pivoted_country\n",
    "\"\"\")\n",
    "\n",
    "# Define filter conditions\n",
    "# Condition 1: Filter only grain items (wheat, maize, soybeans, rice, barley, sorghum, oats, rye)\n",
    "grain_item_codes = [\n",
    "    2511,  # Wheat\n",
    "    2514,  # Maize\n",
    "    2555,  # Soybeans\n",
    "    2805,  # Rice\n",
    "    2556,  # Barley\n",
    "    2807,  # Sorghum\n",
    "    2516,  # Oats\n",
    "    2518   # Rye\n",
    "]\n",
    "cond1 = fao_fbs_pivoted_country.item_code.isin(grain_item_codes)\n",
    "\n",
    "# Condition 2: Include data from the year 2000 onwards\n",
    "cond2 = col(\"year_code\") >= 2000\n",
    "\n",
    "# Combine filter conditions\n",
    "condf = cond1 & cond2\n",
    "\n",
    "# Apply filters\n",
    "fao_fbs_filtered_grains_country = fao_fbs_pivoted_country.filter(condf)\n",
    "\n",
    "# Aggregate values to remove the item_code dimension\n",
    "fao_fbs_aggregated_grains_country = (\n",
    "    fao_fbs_filtered_grains_country\n",
    "    .groupBy(\"area_code\", \"area\", \"year_code\", \"year\")\n",
    "    .agg(\n",
    "        spark_sum(\"production\").alias(\"grain_production\"),\n",
    "        spark_sum(\"import_quantity\").alias(\"grain_import_quantity\"),\n",
    "        spark_sum(\"export_quantity\").alias(\"grain_export_quantity\"),\n",
    "        spark_sum(\"losses\").alias(\"grain_losses\"),\n",
    "        spark_sum(\"food\").alias(\"grain_food\"),\n",
    "        spark_sum(\"feed\").alias(\"grain_feed\"),\n",
    "        spark_sum(\"seed\").alias(\"grain_seed\"),\n",
    "        spark_sum(\"stock_variation\").alias(\"grain_stock_variation\")\n",
    "    )\n",
    ")\n",
    "\n",
    "# Display the aggregated data\n",
    "#fao_fbs_aggregated_grains_country.display(10)"
   ]
  },
  {
   "cell_type": "code",
   "execution_count": 0,
   "metadata": {
    "application/vnd.databricks.v1+cell": {
     "cellMetadata": {
      "byteLimit": 2048000,
      "rowLimit": 10000
     },
     "inputWidgets": {},
     "nuid": "7f79e86d-f6e6-4144-84a1-00cacb58c88e",
     "showTitle": false,
     "tableResultSettingsMap": {},
     "title": ""
    }
   },
   "outputs": [],
   "source": [
    "from pyspark.sql.functions import col, sum as spark_sum\n",
    "\n",
    "# Load data from fao_fbs_pivoted_region table\n",
    "fao_fbs_pivoted_region = spark.sql(\"\"\"\n",
    "    SELECT \n",
    "        area_code,\n",
    "        area,\n",
    "        item_code,\n",
    "        item,\n",
    "        year_code,\n",
    "        year,\n",
    "        production,\n",
    "        import_quantity,\n",
    "        export_quantity,\n",
    "        losses,\n",
    "        food,\n",
    "        feed,\n",
    "        seed,\n",
    "        stock_variation\n",
    "    FROM workspace.postharvestloss.fao_fbs_pivoted_region\n",
    "\"\"\")\n",
    "\n",
    "# Define filter conditions\n",
    "# cond1: Filter only grain items (wheat, maize, soybeans, rice, barley, sorghum, oats, rye)\n",
    "grain_item_codes = [\n",
    "    2511,  # Wheat\n",
    "    2514,  # Maize\n",
    "    2555,  # Soybeans\n",
    "    2805,  # Rice\n",
    "    2556,  # Barley\n",
    "    2807,  # Sorghum\n",
    "    2516,  # Oats\n",
    "    2518   # Rye\n",
    "]\n",
    "cond1 = fao_fbs_pivoted_region.item_code.isin(grain_item_codes)\n",
    "\n",
    "# cond2: Include data from the year 2000 onwards\n",
    "cond2 = col(\"year_code\") >= 2000\n",
    "\n",
    "# condf: Combine filter conditions\n",
    "condf = cond1 & cond2\n",
    "\n",
    "# Apply filters\n",
    "fao_fbs_filtered_grains_region = fao_fbs_pivoted_region.filter(condf)\n",
    "\n",
    "# Aggregate values to remove the item_code dimension and rename with 'grain_' prefix\n",
    "fao_fbs_aggregated_grains_region = (\n",
    "    fao_fbs_filtered_grains_region\n",
    "    .groupBy(\"area_code\", \"area\", \"year_code\", \"year\")\n",
    "    .agg(\n",
    "        spark_sum(\"production\").alias(\"grain_production\"),\n",
    "        spark_sum(\"import_quantity\").alias(\"grain_import_quantity\"),\n",
    "        spark_sum(\"export_quantity\").alias(\"grain_export_quantity\"),\n",
    "        spark_sum(\"losses\").alias(\"grain_losses\"),\n",
    "        spark_sum(\"food\").alias(\"grain_food\"),\n",
    "        spark_sum(\"feed\").alias(\"grain_feed\"),\n",
    "        spark_sum(\"seed\").alias(\"grain_seed\"),\n",
    "        spark_sum(\"stock_variation\").alias(\"grain_stock_variation\")\n",
    "    )\n",
    ")\n",
    "\n",
    "# Display the aggregated data in Databricks\n",
    "#display(fao_fbs_aggregated_grains_region)"
   ]
  },
  {
   "cell_type": "code",
   "execution_count": 0,
   "metadata": {
    "application/vnd.databricks.v1+cell": {
     "cellMetadata": {},
     "inputWidgets": {},
     "nuid": "b891bbfe-f248-47e2-8b6b-52e343a8c6e2",
     "showTitle": false,
     "tableResultSettingsMap": {},
     "title": ""
    }
   },
   "outputs": [],
   "source": []
  },
  {
   "cell_type": "code",
   "execution_count": 0,
   "metadata": {
    "application/vnd.databricks.v1+cell": {
     "cellMetadata": {
      "byteLimit": 2048000,
      "rowLimit": 10000
     },
     "inputWidgets": {},
     "nuid": "576e9b7d-b5ce-4e87-bf46-a6a0fa68416c",
     "showTitle": false,
     "tableResultSettingsMap": {},
     "title": ""
    }
   },
   "outputs": [],
   "source": [
    "fao_fbs_aggregated_grains_region.select(\"area_code\", \"area\").dropDuplicates().display()"
   ]
  },
  {
   "cell_type": "code",
   "execution_count": 0,
   "metadata": {
    "application/vnd.databricks.v1+cell": {
     "cellMetadata": {},
     "inputWidgets": {},
     "nuid": "baafed8d-bdf6-4120-9927-8efeb5ea688a",
     "showTitle": false,
     "tableResultSettingsMap": {},
     "title": ""
    }
   },
   "outputs": [],
   "source": []
  }
 ],
 "metadata": {
  "application/vnd.databricks.v1+notebook": {
   "computePreferences": null,
   "dashboards": [],
   "environmentMetadata": {
    "base_environment": "",
    "environment_version": "2"
   },
   "language": "python",
   "notebookMetadata": {
    "pythonIndentUnit": 4
   },
   "notebookName": "01_data_extraction",
   "widgets": {}
  },
  "language_info": {
   "name": "python"
  }
 },
 "nbformat": 4,
 "nbformat_minor": 0
}
