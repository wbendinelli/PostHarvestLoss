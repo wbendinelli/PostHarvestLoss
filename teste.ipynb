{
 "cells": [
  {
   "cell_type": "code",
   "execution_count": 0,
   "metadata": {
    "application/vnd.databricks.v1+cell": {
     "cellMetadata": {
      "byteLimit": 2048000,
      "rowLimit": 10000
     },
     "inputWidgets": {},
     "nuid": "b5447dea-e88d-425a-b9bf-93fc21f84163",
     "showTitle": false,
     "tableResultSettingsMap": {},
     "title": ""
    }
   },
   "outputs": [],
   "source": [
    "%python\n",
    "from pyspark.sql import SparkSession\n",
    "from pyspark.sql.functions import col\n",
    "\n",
    "# Initialize SparkSession (Databricks provides SparkSession automatically)\n",
    "spark = SparkSession.builder.getOrCreate()\n",
    "\n",
    "# Load the FAO Food Balance Sheets dataset\n",
    "fao_fbs_privoted_country = spark.table(\"workspace.postharvestloss.fao_fbs_pivoted_country\")\n",
    "\n",
    "# Define grain item codes for filtering\n",
    "grain_item_codes = [\n",
    "    2511,  # Wheat\n",
    "    2514,  # Maize\n",
    "    2555,  # Soybeans\n",
    "    2805,  # Rice\n",
    "    2512,  # Barley\n",
    "    2515,  # Oats\n",
    "    2513,  # Rye\n",
    "    2807,  # Millet\n",
    "    2806,  # Sorghum\n",
    "    2516,  # Triticale\n",
    "    2808,  # Buckwheat\n",
    "    2955,  # Quinoa\n",
    "    2809,  # Fonio\n",
    "    2810   # Teff\n",
    "]\n",
    "\n",
    "# Define filter conditions\n",
    "cond1 = col(\"item_code\").isin(grain_item_codes)       # Filter for grains\n",
    "cond2 = col(\"year_code\") >= 2000                      # Filter for years starting from 2000\n",
    "\n",
    "# Combine all conditions\n",
    "combined_filter = cond1 & cond2\n",
    "\n",
    "# Apply the filter\n",
    "fao_fbs_filtered_grains = fao_fbs_privoted_country.filter(combined_filter)\n",
    "\n",
    "# Display the filtered dataset\n",
    "fao_fbs_filtered_grains.display(10)"
   ]
  },
  {
   "cell_type": "code",
   "execution_count": 0,
   "metadata": {
    "application/vnd.databricks.v1+cell": {
     "cellMetadata": {
      "byteLimit": 2048000,
      "rowLimit": 10000
     },
     "inputWidgets": {},
     "nuid": "9d25a19d-77fd-4800-b73d-0b35e315930a",
     "showTitle": false,
     "tableResultSettingsMap": {},
     "title": ""
    }
   },
   "outputs": [],
   "source": [
    "%python\n",
    "dbutils.notebook.run('/Repos/agribusiness_projects/', 0)"
   ]
  },
  {
   "cell_type": "code",
   "execution_count": 0,
   "metadata": {
    "application/vnd.databricks.v1+cell": {
     "cellMetadata": {
      "byteLimit": 2048000,
      "rowLimit": 10000
     },
     "inputWidgets": {},
     "nuid": "c0814a64-6013-47d3-8bf0-8a9363c0410b",
     "showTitle": false,
     "tableResultSettingsMap": {},
     "title": ""
    }
   },
   "outputs": [],
   "source": [
    "%python\n",
    "import sys\n",
    "from pathlib import Path\n",
    "\n",
    "# Add the project directory to the Python path\n",
    "project_dir = Path(\"/Repos/agribusiness_projects/PostHarvestLoss/\")\n",
    "sys.path.append(str(project_dir))\n",
    "\n",
    "# Ensure the correct path to the module\n",
    "from src.data.filter_fao_data import filter_fao_data\n",
    "\n",
    "# Load FAO Food Balance Sheets dataset\n",
    "fao_fbs_raw = spark.table(\"workspace.postharvestloss.fao_fbs_pivoted_country\")\n",
    "\n",
    "# Define grain item codes (Wheat, Maize, Soybeans, Rice)\n",
    "grain_item_codes = [2511, 2514, 2555, 2805]\n",
    "\n",
    "# Apply the filter to include grains from 2000 onwards for countries only\n",
    "fao_fbs_grains_2000_onwards = filter_fao_data(\n",
    "    data=fao_fbs_raw,\n",
    "    item_codes=grain_item_codes,\n",
    "    area_codes=[code for code in range(1, 5000)],  # Only countries\n",
    "    year_range=(2000, None)  # From 2000 onwards\n",
    ")\n",
    "\n",
    "# Display the filtered dataset\n",
    "display(fao_fbs_grains_2000_onwards.limit(10))"
   ]
  },
  {
   "cell_type": "code",
   "execution_count": 0,
   "metadata": {
    "application/vnd.databricks.v1+cell": {
     "cellMetadata": {
      "byteLimit": 2048000,
      "rowLimit": 10000
     },
     "inputWidgets": {},
     "nuid": "55e20477-0857-4e9a-82b6-0c6ec3a202ef",
     "showTitle": false,
     "tableResultSettingsMap": {},
     "title": ""
    }
   },
   "outputs": [],
   "source": [
    "%python\n",
    "import sys\n",
    "from pathlib import Path\n",
    "\n",
    "# Add the project directory to the Python path\n",
    "project_dir = Path(\"/Workspace/Repos/agribusiness_projects/PostHarvestLoss/\")\n",
    "sys.path.append(str(project_dir))\n",
    "\n"
   ]
  },
  {
   "cell_type": "code",
   "execution_count": 0,
   "metadata": {
    "application/vnd.databricks.v1+cell": {
     "cellMetadata": {
      "byteLimit": 2048000,
      "rowLimit": 10000
     },
     "inputWidgets": {},
     "nuid": "a0bd9b8e-0f97-4cb0-bb21-1b7c3bedfa80",
     "showTitle": false,
     "tableResultSettingsMap": {},
     "title": ""
    }
   },
   "outputs": [],
   "source": [
    "%python\n",
    "display(dbutils.fs.ls(\"dbfs:/Workspace/Repos\"))"
   ]
  }
 ],
 "metadata": {
  "application/vnd.databricks.v1+notebook": {
   "computePreferences": {
    "hardware": {
     "accelerator": null,
     "gpuPoolId": null,
     "memory": null
    }
   },
   "dashboards": [],
   "environmentMetadata": {
    "base_environment": "",
    "environment_version": "2"
   },
   "language": "sql",
   "notebookMetadata": {
    "mostRecentlyExecutedCommandWithImplicitDF": {
     "commandId": -1,
     "dataframes": [
      "_sqldf"
     ]
    },
    "pythonIndentUnit": 4
   },
   "notebookName": "teste",
   "widgets": {}
  },
  "language_info": {
   "name": "sql"
  }
 },
 "nbformat": 4,
 "nbformat_minor": 0
}
