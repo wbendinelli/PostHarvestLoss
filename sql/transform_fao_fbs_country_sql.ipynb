{
 "cells": [
  {
   "cell_type": "code",
   "execution_count": 0,
   "metadata": {
    "application/vnd.databricks.v1+cell": {
     "cellMetadata": {},
     "inputWidgets": {},
     "nuid": "b7625ac1-3006-48e2-94e7-3919a541bae9",
     "showTitle": false,
     "tableResultSettingsMap": {},
     "title": ""
    }
   },
   "outputs": [],
   "source": [
    "%sql\n",
    "-- Create or replace the table with the pivoted elements\n",
    "CREATE OR REPLACE TABLE workspace.postharvestloss.fao_fbs_pivoted_country_level AS\n",
    "SELECT \n",
    "    area_code,   -- Area code\n",
    "    area,        -- Area name\n",
    "    item_code,   -- Item code\n",
    "    item,        -- Item name\n",
    "    year,        -- Year\n",
    "    year_code,   -- Year code\n",
    "    unit,        -- Unit of measurement\n",
    "\n",
    "    -- Pivoting the specified elements\n",
    "    MAX(CASE WHEN element_code = 5154 THEN value END) AS other_uses_non_food,\n",
    "    MAX(CASE WHEN element_code = 5611 THEN value END) AS import_quantity,\n",
    "    MAX(CASE WHEN element_code = 5123 THEN value END) AS losses,\n",
    "    MAX(CASE WHEN element_code = 5142 THEN value END) AS food,\n",
    "    MAX(CASE WHEN element_code = 5911 THEN value END) AS export_quantity,\n",
    "    MAX(CASE WHEN element_code = 5301 THEN value END) AS domestic_supply_quantity,\n",
    "    MAX(CASE WHEN element_code = 5131 THEN value END) AS processing,\n",
    "    MAX(CASE WHEN element_code = 5074 THEN value END) AS stock_variation,\n",
    "    MAX(CASE WHEN element_code = 5521 THEN value END) AS feed,\n",
    "    MAX(CASE WHEN element_code = 5511 THEN value END) AS production,\n",
    "    MAX(CASE WHEN element_code = 5527 THEN value END) AS seed\n",
    "\n",
    "FROM \n",
    "    workspace.postharvestloss.fao_fbs_all_raw\n",
    "\n",
    "-- Filter to select only element_code > 5000 and specific areas\n",
    "WHERE \n",
    "    element_code > 5000 AND area_code < 5000\n",
    "\n",
    "-- Group by fixed columns to perform the pivot\n",
    "GROUP BY \n",
    "    area_code, area, item_code, item, year, year_code, unit;"
   ]
  }
 ],
 "metadata": {
  "application/vnd.databricks.v1+notebook": {
   "computePreferences": null,
   "dashboards": [],
   "environmentMetadata": {
    "base_environment": "",
    "environment_version": "2"
   },
   "language": "python",
   "notebookMetadata": {
    "pythonIndentUnit": 4
   },
   "notebookName": "transform_fao_fbs_country_sql",
   "widgets": {}
  },
  "language_info": {
   "name": "python"
  }
 },
 "nbformat": 4,
 "nbformat_minor": 0
}
