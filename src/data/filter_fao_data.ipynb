{
 "cells": [
  {
   "cell_type": "code",
   "execution_count": 0,
   "metadata": {
    "application/vnd.databricks.v1+cell": {
     "cellMetadata": {
      "byteLimit": 2048000,
      "rowLimit": 10000
     },
     "inputWidgets": {},
     "nuid": "6476b7e4-6c42-41ad-9d84-b17ce1e8f8c4",
     "showTitle": false,
     "tableResultSettingsMap": {},
     "title": ""
    }
   },
   "outputs": [],
   "source": [
    "from pyspark.sql import DataFrame\n",
    "from pyspark.sql.functions import col\n",
    "\n",
    "def filter_fao_data(data: DataFrame,\n",
    "                    area_codes: list = None,\n",
    "                    item_codes: list = None,\n",
    "                    exclude_item_codes: list = None,\n",
    "                    year_range: tuple = None) -> DataFrame:\n",
    "    \"\"\"\n",
    "    Apply filters to FAO data focusing on area_code, item_code, and year_code.\n",
    "\n",
    "    Parameters:\n",
    "    ----------\n",
    "    data : DataFrame\n",
    "        The input PySpark DataFrame containing FAO data.\n",
    "    area_codes : list, optional\n",
    "        List of area codes to include (default: None, no filter applied).\n",
    "    item_codes : list, optional\n",
    "        List of item codes to include (default: None, no filter applied).\n",
    "    exclude_item_codes : list, optional\n",
    "        List of item codes to exclude (default: None, no exclusion applied).\n",
    "    year_range : tuple, optional\n",
    "        Tuple of (min_year, max_year) to filter by year_code (default: None, no filter applied).\n",
    "\n",
    "    Returns:\n",
    "    -------\n",
    "    DataFrame\n",
    "        Filtered PySpark DataFrame based on provided conditions.\n",
    "    \"\"\"\n",
    "\n",
    "    filtered_data = data\n",
    "\n",
    "    # Filter by area_code if provided\n",
    "    if area_codes:\n",
    "        filtered_data = filtered_data.filter(col(\"area_code\").isin(area_codes))\n",
    "\n",
    "    # Filter by item_code if provided\n",
    "    if item_codes:\n",
    "        filtered_data = filtered_data.filter(col(\"item_code\").isin(item_codes))\n",
    "\n",
    "    # Exclude item_codes if specified\n",
    "    if exclude_item_codes:\n",
    "        filtered_data = filtered_data.filter(~col(\"item_code\").isin(exclude_item_codes))\n",
    "\n",
    "    # Filter by year_code range if provided\n",
    "    if year_range:\n",
    "        min_year, max_year = year_range\n",
    "        if min_year is not None:\n",
    "            filtered_data = filtered_data.filter(col(\"year_code\") >= min_year)\n",
    "        if max_year is not None:\n",
    "            filtered_data = filtered_data.filter(col(\"year_code\") <= max_year)\n",
    "\n",
    "    return filtered_data"
   ]
  }
 ],
 "metadata": {
  "application/vnd.databricks.v1+notebook": {
   "computePreferences": null,
   "dashboards": [],
   "environmentMetadata": {
    "base_environment": "",
    "environment_version": "2"
   },
   "language": "python",
   "notebookMetadata": {
    "pythonIndentUnit": 4
   },
   "notebookName": "filter_fao_data",
   "widgets": {}
  },
  "language_info": {
   "name": "python"
  }
 },
 "nbformat": 4,
 "nbformat_minor": 0
}
